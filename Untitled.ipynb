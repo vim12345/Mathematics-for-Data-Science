{
 "cells": [
  {
   "cell_type": "code",
   "execution_count": 1,
   "id": "7ac85966-744f-441b-8d98-b28e014ebf66",
   "metadata": {},
   "outputs": [],
   "source": [
    "import numpy as np\n",
    "import seaborn as sns\n",
    "import matplotlib.pyplot as plt\n",
    "import pandas as pd\n",
    "import scipy.stats as st"
   ]
  },
  {
   "cell_type": "code",
   "execution_count": 13,
   "id": "6cf0e41e-dc22-4dab-931b-24d7478c212d",
   "metadata": {},
   "outputs": [
    {
     "data": {
      "text/plain": [
       "1.7108820799094275"
      ]
     },
     "execution_count": 13,
     "metadata": {},
     "output_type": "execute_result"
    }
   ],
   "source": [
    "t_table = st.t.ppf(1-0.05,24)\n",
    "t_table"
   ]
  },
  {
   "cell_type": "code",
   "execution_count": 15,
   "id": "c26e9182-30dd-4b12-8576-466fdfad7e1d",
   "metadata": {},
   "outputs": [],
   "source": [
    "before = np.array([59,49,33,53,55,3])\n",
    "after = np.array([60,33,55,22,44,22])"
   ]
  },
  {
   "cell_type": "code",
   "execution_count": 17,
   "id": "d53e2738-02e7-4c42-87f0-cd6a50462586",
   "metadata": {},
   "outputs": [],
   "source": [
    "std_a = np.std(after)\n",
    "std_b = np.std(before)\n",
    "mean_a = np.mean(after)\n",
    "mean_b = np.mean(before)"
   ]
  },
  {
   "cell_type": "code",
   "execution_count": null,
   "id": "f8dcd41b-444d-4ab7-b318-b3743bcfc179",
   "metadata": {},
   "outputs": [],
   "source": [
    "t_cal = (mean_a-mean_b)/(np.sqrt(((std_a*std_a"
   ]
  }
 ],
 "metadata": {
  "kernelspec": {
   "display_name": "Python 3 (ipykernel)",
   "language": "python",
   "name": "python3"
  },
  "language_info": {
   "codemirror_mode": {
    "name": "ipython",
    "version": 3
   },
   "file_extension": ".py",
   "mimetype": "text/x-python",
   "name": "python",
   "nbconvert_exporter": "python",
   "pygments_lexer": "ipython3",
   "version": "3.12.5"
  }
 },
 "nbformat": 4,
 "nbformat_minor": 5
}
