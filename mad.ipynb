{
 "cells": [
  {
   "cell_type": "code",
   "execution_count": 2,
   "id": "05939a8e-ef8c-4321-9161-772e874526e0",
   "metadata": {},
   "outputs": [],
   "source": [
    "import numpy as np\n",
    "import pandas as pd\n",
    "import matplotlib.pyplot as plt\n",
    "import seaborn as sns"
   ]
  },
  {
   "cell_type": "code",
   "execution_count": 6,
   "id": "dbebfdf3-9484-4e30-a593-86f20b426da1",
   "metadata": {},
   "outputs": [],
   "source": [
    "sec_a = np.array([75,65,73,68,72,76])\n",
    "sec_b = np.array([90,47,43,96,93,51])\n",
    "no = np.array([1,2,3,4,5,6])"
   ]
  },
  {
   "cell_type": "code",
   "execution_count": 32,
   "id": "20d58e61-e93d-493c-aa38-5bdc234f2d0b",
   "metadata": {},
   "outputs": [
    {
     "data": {
      "text/plain": [
       "(3.8622100754188224, 23.18045153428495)"
      ]
     },
     "execution_count": 32,
     "metadata": {},
     "output_type": "execute_result"
    }
   ],
   "source": [
    "np.std(sec_a),np.std(sec_b)"
   ]
  },
  {
   "cell_type": "code",
   "execution_count": 34,
   "id": "c06a067b-e067-4bb5-a5b4-44ab93aa0aec",
   "metadata": {},
   "outputs": [
    {
     "data": {
      "text/plain": [
       "(14.916666666666666, 537.3333333333334)"
      ]
     },
     "execution_count": 34,
     "metadata": {},
     "output_type": "execute_result"
    }
   ],
   "source": [
    "np.var(sec_a), np.var(sec_b)"
   ]
  },
  {
   "cell_type": "code",
   "execution_count": null,
   "id": "7bd49165-b864-43c9-bb05-38eca4eb672f",
   "metadata": {},
   "outputs": [],
   "source": []
  },
  {
   "cell_type": "code",
   "execution_count": 20,
   "id": "fefcab86-5cd6-4832-8eda-32fd82c1ee94",
   "metadata": {},
   "outputs": [
    {
     "data": {
      "text/plain": [
       "70.0"
      ]
     },
     "execution_count": 20,
     "metadata": {},
     "output_type": "execute_result"
    }
   ],
   "source": [
    "mean=np.mean(sec_b)\n",
    "mean"
   ]
  },
  {
   "cell_type": "code",
   "execution_count": 28,
   "id": "2f5cf00f-c969-4ff1-b86e-ee39a3567127",
   "metadata": {},
   "outputs": [],
   "source": [
    "mad_a = np.sum(np.abs(sec_a - mean))/len(sec_a)\n",
    "mad_b = np.sum(np.abs(sec_b - mean))/len(sec_b)"
   ]
  },
  {
   "cell_type": "code",
   "execution_count": 30,
   "id": "8a548cc8-b77e-4128-90a1-82ddf5932640",
   "metadata": {},
   "outputs": [
    {
     "data": {
      "text/plain": [
       "(3.8333333333333335, 23.0)"
      ]
     },
     "execution_count": 30,
     "metadata": {},
     "output_type": "execute_result"
    }
   ],
   "source": [
    "mad_a, mad_b"
   ]
  },
  {
   "cell_type": "code",
   "execution_count": 18,
   "id": "b7c5508f-3502-4d1b-b1f6-e0b7b2fc8871",
   "metadata": {},
   "outputs": [
    {
     "data": {
      "image/png": "[encoded data removed]",
      "text/plain": [
       "<Figure size 1000x300 with 1 Axes>"
      ]
     },
     "metadata": {},
     "output_type": "display_data"
    }
   ],
   "source": [
    "plt.figure(figsize=(10,3))\n",
    "plt.scatter(sec_a,no, label='sec A')\n",
    "plt.scatter(sec_b,no,color=\"red\", label='sec B')\n",
    "plt.plot([mean for i in range(1,7)],no,c='blue',label='Mean')\n",
    "plt.legend()\n",
    "plt.show()"
   ]
  },
  {
   "cell_type": "code",
   "execution_count": null,
   "id": "97966862-2fc6-49d1-8bcc-346cc25be84c",
   "metadata": {},
   "outputs": [],
   "source": []
  }
 ],
 "metadata": {
  "kernelspec": {
   "display_name": "Python 3 (ipykernel)",
   "language": "python",
   "name": "python3"
  },
  "language_info": {
   "codemirror_mode": {
    "name": "ipython",
    "version": 3
   },
   "file_extension": ".py",
   "mimetype": "text/x-python",
   "name": "python",
   "nbconvert_exporter": "python",
   "pygments_lexer": "ipython3",
   "version": "3.12.5"
  }
 },
 "nbformat": 4,
 "nbformat_minor": 5
}
