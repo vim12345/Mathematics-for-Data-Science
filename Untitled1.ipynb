{
 "cells": [
  {
   "cell_type": "code",
   "execution_count": 2,
   "id": "d3045e54-7464-43f3-96f0-c84386e27765",
   "metadata": {},
   "outputs": [],
   "source": [
    "import numpy as np\n"
   ]
  },
  {
   "cell_type": "code",
   "execution_count": 4,
   "id": "d667b97a-7c9b-4749-825f-35de1936f632",
   "metadata": {},
   "outputs": [],
   "source": [
    "row1 = np.array([40,45,25,10])\n",
    "row2 = np.array([35,30,20,30])"
   ]
  },
  {
   "cell_type": "code",
   "execution_count": 6,
   "id": "ae0cecf2-f4b3-4d05-a5f8-c3ad8dbfe66f",
   "metadata": {},
   "outputs": [],
   "source": [
    "sum_r1= np.sum(row1)\n",
    "sum_r2 = np.sum(row2)"
   ]
  },
  {
   "cell_type": "code",
   "execution_count": 10,
   "id": "7a904e83-00ee-4147-916b-c79863740fa8",
   "metadata": {},
   "outputs": [
    {
     "data": {
      "text/plain": [
       "array([75, 75, 45, 40])"
      ]
     },
     "execution_count": 10,
     "metadata": {},
     "output_type": "execute_result"
    }
   ],
   "source": [
    "sum_cal = row1+row2\n",
    "sum_cal"
   ]
  },
  {
   "cell_type": "code",
   "execution_count": null,
   "id": "aaa93e17-3bd6-4ac0-a18f-3af1308b0bec",
   "metadata": {},
   "outputs": [],
   "source": []
  }
 ],
 "metadata": {
  "kernelspec": {
   "display_name": "Python 3 (ipykernel)",
   "language": "python",
   "name": "python3"
  },
  "language_info": {
   "codemirror_mode": {
    "name": "ipython",
    "version": 3
   },
   "file_extension": ".py",
   "mimetype": "text/x-python",
   "name": "python",
   "nbconvert_exporter": "python",
   "pygments_lexer": "ipython3",
   "version": "3.12.5"
  }
 },
 "nbformat": 4,
 "nbformat_minor": 5
}
