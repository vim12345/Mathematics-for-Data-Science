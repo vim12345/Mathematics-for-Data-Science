{
 "cells": [
  {
   "cell_type": "code",
   "execution_count": 1,
   "id": "f567f615-c0ac-4157-ad44-baa495e19359",
   "metadata": {},
   "outputs": [],
   "source": [
    "import numpy as np\n",
    "import seaborn as sns\n",
    "import matplotlib.pyplot as plt\n",
    "import pandas as pd\n",
    "import scipy.stats as st"
   ]
  },
  {
   "cell_type": "code",
   "execution_count": 7,
   "id": "e8435497-3a8b-4a38-b071-32b166f1db60",
   "metadata": {},
   "outputs": [],
   "source": [
    "ob = np.array([22,17,20,26,22,13])\n",
    "ex = np.array([20,20,20,20,20,20])"
   ]
  },
  {
   "cell_type": "code",
   "execution_count": 9,
   "id": "91f83e76-3546-431e-ac68-0900f9a7ae01",
   "metadata": {},
   "outputs": [
    {
     "data": {
      "text/plain": [
       "array([ 2, -3,  0,  6,  2, -7])"
      ]
     },
     "execution_count": 9,
     "metadata": {},
     "output_type": "execute_result"
    }
   ],
   "source": [
    "ob-ex"
   ]
  },
  {
   "cell_type": "code",
   "execution_count": null,
   "id": "b0e304c9-e5d3-4e09-90b2-b9f94e9ea2bc",
   "metadata": {},
   "outputs": [],
   "source": [
    "np.sum(np"
   ]
  }
 ],
 "metadata": {
  "kernelspec": {
   "display_name": "Python 3 (ipykernel)",
   "language": "python",
   "name": "python3"
  },
  "language_info": {
   "codemirror_mode": {
    "name": "ipython",
    "version": 3
   },
   "file_extension": ".py",
   "mimetype": "text/x-python",
   "name": "python",
   "nbconvert_exporter": "python",
   "pygments_lexer": "ipython3",
   "version": "3.12.5"
  }
 },
 "nbformat": 4,
 "nbformat_minor": 5
}
